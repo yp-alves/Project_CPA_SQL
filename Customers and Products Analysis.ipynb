{
 "cells": [
  {
   "cell_type": "markdown",
   "id": "1cd84678",
   "metadata": {},
   "source": [
    "# Customers and Products Analysis with SQL"
   ]
  },
  {
   "cell_type": "markdown",
   "id": "db295787",
   "metadata": {},
   "source": [
    "The database analysis was carried out using the DB Browser for SQLite. We find eight tables wich descriptions and foreign keys are shown below:\n",
    "\n",
    "**Customers**: customer data \n",
    "\n",
    "* salesRepEmployeeNumber = employees['employeeNumber']\n",
    "\n",
    "**Employees**: all employee information \n",
    "* reportsTo = employees['employeeNumber']\n",
    "* officeCode = offices['officeCode']\n",
    "\n",
    "**Offices**: sales office information\n",
    "\n",
    "**Orders**: customers' sales orders\n",
    "* customerNumber = customers['customerNumber']\n",
    "\n",
    "**OrderDetails**: sales order line for each sales order\n",
    "* orderNumber = orders['orderNumber']\n",
    "* productCode = products['productCode']\n",
    "\t\t\t\t\t\t\t\t\t\t\t\t\t \n",
    "**Payments**: customers' payment records\n",
    "* customerNumber = customers['customerNumber']\n",
    "\n",
    "**Products**: a list of scale model cars\n",
    "* productLine = productlines['productLine']\n",
    "\n",
    "**ProductLines**: a list of product line categories"
   ]
  },
  {
   "cell_type": "markdown",
   "id": "b2941f65",
   "metadata": {},
   "source": [
    "# What we want to know?"
   ]
  },
  {
   "cell_type": "markdown",
   "id": "adebdeb4",
   "metadata": {},
   "source": [
    "There are three main questions we want to answer for this project:\n",
    " \n",
    "* Question 1: Which products should we order more of or less of?\n",
    "* Question 2: How should we tailor marketing and communication strategies to customer behaviors?\n",
    "* Question 3: How much can we spend on acquiring new customers?\n"
   ]
  },
  {
   "cell_type": "code",
   "execution_count": 1,
   "id": "cbbff590",
   "metadata": {},
   "outputs": [],
   "source": [
    "import sqlite3\n",
    "conn = sqlite3.connect('stores.db')"
   ]
  },
  {
   "cell_type": "code",
   "execution_count": 2,
   "id": "2df3afc8",
   "metadata": {},
   "outputs": [],
   "source": [
    "%load_ext sql"
   ]
  },
  {
   "cell_type": "code",
   "execution_count": 3,
   "id": "060ad012",
   "metadata": {},
   "outputs": [
    {
     "data": {
      "text/plain": [
       "'Connected: @stores.db'"
      ]
     },
     "execution_count": 3,
     "metadata": {},
     "output_type": "execute_result"
    }
   ],
   "source": [
    "%sql sqlite:///stores.db"
   ]
  },
  {
   "cell_type": "markdown",
   "id": "af741fda",
   "metadata": {},
   "source": [
    "## Question 1\n",
    "\n",
    "**Which products should we order more of or less of?**\n",
    "\n",
    "To answer this question, we will use the **'orders'** table to obtain information on each product's total number of orders.\n",
    "\n",
    "We then worked with the **'orderdetails'** table to determine the top ten selling products.\n",
    "\n",
    "From these CTEs, we can create a new table that shows the relationship between inventory and product sales quantity.\n"
   ]
  },
  {
   "cell_type": "code",
   "execution_count": 4,
   "id": "2fe32bb2",
   "metadata": {
    "scrolled": true
   },
   "outputs": [
    {
     "name": "stdout",
     "output_type": "stream",
     "text": [
      " * sqlite:///stores.db\n",
      "Done.\n"
     ]
    },
    {
     "data": {
      "text/html": [
       "<table>\n",
       "    <thead>\n",
       "        <tr>\n",
       "            <th>productName</th>\n",
       "            <th>total_orders</th>\n",
       "            <th>quantityInStock</th>\n",
       "            <th>low_stock</th>\n",
       "        </tr>\n",
       "    </thead>\n",
       "    <tbody>\n",
       "        <tr>\n",
       "            <td>1968 Ford Mustang</td>\n",
       "            <td>933</td>\n",
       "            <td>68</td>\n",
       "            <td>13.72</td>\n",
       "        </tr>\n",
       "        <tr>\n",
       "            <td>1969 Ford Falcon</td>\n",
       "            <td>965</td>\n",
       "            <td>1049</td>\n",
       "            <td>0.92</td>\n",
       "        </tr>\n",
       "        <tr>\n",
       "            <td>1917 Grand Touring Sedan</td>\n",
       "            <td>918</td>\n",
       "            <td>2724</td>\n",
       "            <td>0.34</td>\n",
       "        </tr>\n",
       "        <tr>\n",
       "            <td>2001 Ferrari Enzo</td>\n",
       "            <td>1019</td>\n",
       "            <td>3619</td>\n",
       "            <td>0.28</td>\n",
       "        </tr>\n",
       "        <tr>\n",
       "            <td>1992 Ferrari 360 Spider red</td>\n",
       "            <td>1808</td>\n",
       "            <td>8347</td>\n",
       "            <td>0.22</td>\n",
       "        </tr>\n",
       "        <tr>\n",
       "            <td>1998 Chrysler Plymouth Prowler</td>\n",
       "            <td>986</td>\n",
       "            <td>4724</td>\n",
       "            <td>0.21</td>\n",
       "        </tr>\n",
       "        <tr>\n",
       "            <td>1980s Black Hawk Helicopter</td>\n",
       "            <td>1040</td>\n",
       "            <td>5330</td>\n",
       "            <td>0.2</td>\n",
       "        </tr>\n",
       "        <tr>\n",
       "            <td>2003 Harley-Davidson Eagle Drag Bike</td>\n",
       "            <td>985</td>\n",
       "            <td>5582</td>\n",
       "            <td>0.18</td>\n",
       "        </tr>\n",
       "        <tr>\n",
       "            <td>1952 Alpine Renault 1300</td>\n",
       "            <td>961</td>\n",
       "            <td>7305</td>\n",
       "            <td>0.13</td>\n",
       "        </tr>\n",
       "        <tr>\n",
       "            <td>2002 Suzuki XREO</td>\n",
       "            <td>1028</td>\n",
       "            <td>9997</td>\n",
       "            <td>0.1</td>\n",
       "        </tr>\n",
       "    </tbody>\n",
       "</table>"
      ],
      "text/plain": [
       "[('1968 Ford Mustang', 933, 68, 13.72),\n",
       " ('1969 Ford Falcon', 965, 1049, 0.92),\n",
       " ('1917 Grand Touring Sedan', 918, 2724, 0.34),\n",
       " ('2001 Ferrari Enzo', 1019, 3619, 0.28),\n",
       " ('1992 Ferrari 360 Spider red', 1808, 8347, 0.22),\n",
       " ('1998 Chrysler Plymouth Prowler', 986, 4724, 0.21),\n",
       " ('1980s Black Hawk Helicopter', 1040, 5330, 0.2),\n",
       " ('2003 Harley-Davidson Eagle Drag Bike', 985, 5582, 0.18),\n",
       " ('1952 Alpine Renault 1300', 961, 7305, 0.13),\n",
       " ('2002 Suzuki XREO', 1028, 9997, 0.1)]"
      ]
     },
     "execution_count": 4,
     "metadata": {},
     "output_type": "execute_result"
    }
   ],
   "source": [
    "%%sql \n",
    "\n",
    "WITH\n",
    "qtd_order AS (\n",
    "SELECT productCode, SUM(quantityOrdered) AS total_orders\n",
    "  FROM orderdetails\n",
    "  GROUP BY productCode  \n",
    "             ),\n",
    "  \n",
    "performance AS ( \n",
    "SELECT productCode\n",
    "  FROM orderdetails\n",
    " GROUP BY productCode\n",
    " ORDER BY SUM(quantityOrdered*priceEach) DESC\n",
    " LIMIT 10 \n",
    "                )\n",
    "  \n",
    "SELECT p.productName, q.total_orders, p.quantityInStock, ROUND(1.0*q.total_orders/p.quantityInStock,2) AS low_stock\n",
    "  FROM products AS p\n",
    "  JOIN qtd_order AS q\n",
    "    ON p.productCode = q.productCode\n",
    " WHERE p.productCode IN performance\n",
    " ORDER BY low_stock DESC;"
   ]
  },
  {
   "cell_type": "markdown",
   "id": "43fd4f9c",
   "metadata": {},
   "source": [
    "Classic cars are the most desired.\n",
    "\n",
    "Regarding the 1968 Ford Mustang, a more extensive stock would be needed as there is a high demand to buy it.\n",
    "\n",
    "As for cars from the fourth position on the table, it is possible to notice a balanced supply with demand.\n"
   ]
  },
  {
   "cell_type": "markdown",
   "id": "a4be51a1",
   "metadata": {},
   "source": [
    "## Question 2\n",
    "\n",
    "**How should we tailor marketing and communication strategies to customer behaviors?**\n",
    "\n",
    "Let us rank the most-important and least-committed customers; in this way, we can determine how to drive loyalty and attract more customers."
   ]
  },
  {
   "cell_type": "markdown",
   "id": "24cd6f38",
   "metadata": {},
   "source": [
    "## VIPs"
   ]
  },
  {
   "cell_type": "code",
   "execution_count": 5,
   "id": "7ecad5aa",
   "metadata": {},
   "outputs": [
    {
     "name": "stdout",
     "output_type": "stream",
     "text": [
      " * sqlite:///stores.db\n",
      "Done.\n"
     ]
    },
    {
     "data": {
      "text/html": [
       "<table>\n",
       "    <thead>\n",
       "        <tr>\n",
       "            <th>contactLastName</th>\n",
       "            <th>contactFirstName</th>\n",
       "            <th>city</th>\n",
       "            <th>country</th>\n",
       "        </tr>\n",
       "    </thead>\n",
       "    <tbody>\n",
       "        <tr>\n",
       "            <td>Freyre</td>\n",
       "            <td>Diego </td>\n",
       "            <td>Madrid</td>\n",
       "            <td>Spain</td>\n",
       "        </tr>\n",
       "        <tr>\n",
       "            <td>Nelson</td>\n",
       "            <td>Susan</td>\n",
       "            <td>San Rafael</td>\n",
       "            <td>USA</td>\n",
       "        </tr>\n",
       "        <tr>\n",
       "            <td>Young</td>\n",
       "            <td>Jeff</td>\n",
       "            <td>NYC</td>\n",
       "            <td>USA</td>\n",
       "        </tr>\n",
       "        <tr>\n",
       "            <td>Ferguson</td>\n",
       "            <td>Peter</td>\n",
       "            <td>Melbourne</td>\n",
       "            <td>Australia</td>\n",
       "        </tr>\n",
       "        <tr>\n",
       "            <td>Labrune</td>\n",
       "            <td>Janine </td>\n",
       "            <td>Nantes</td>\n",
       "            <td>France</td>\n",
       "        </tr>\n",
       "    </tbody>\n",
       "</table>"
      ],
      "text/plain": [
       "[('Freyre', 'Diego ', 'Madrid', 'Spain'),\n",
       " ('Nelson', 'Susan', 'San Rafael', 'USA'),\n",
       " ('Young', 'Jeff', 'NYC', 'USA'),\n",
       " ('Ferguson', 'Peter', 'Melbourne', 'Australia'),\n",
       " ('Labrune', 'Janine ', 'Nantes', 'France')]"
      ]
     },
     "execution_count": 5,
     "metadata": {},
     "output_type": "execute_result"
    }
   ],
   "source": [
    "%%sql\n",
    "\n",
    "WITH \n",
    "client_profit AS (\n",
    "SELECT o.customerNumber,\n",
    "       SUM(quantityOrdered*(priceEach-buyPrice)) AS profit\n",
    "  FROM orders AS o\n",
    "  JOIN orderdetails AS od\n",
    "    ON o.orderNumber = od.orderNumber\n",
    "  JOIN products p\n",
    "    ON od.productCode = p.productCode\n",
    " GROUP BY o.customerNumber\n",
    "                   )\n",
    "\n",
    "SELECT contactLastName, contactFirstName, city, country\n",
    "  FROM customers AS c\n",
    "  JOIN client_profit AS cp\n",
    "    ON c.customerNumber = cp.customerNumber\n",
    " ORDER BY cp.profit DESC \n",
    " LIMIT 5;"
   ]
  },
  {
   "cell_type": "markdown",
   "id": "947ded34",
   "metadata": {},
   "source": [
    "## Least engaged"
   ]
  },
  {
   "cell_type": "code",
   "execution_count": 6,
   "id": "c392079d",
   "metadata": {},
   "outputs": [
    {
     "name": "stdout",
     "output_type": "stream",
     "text": [
      " * sqlite:///stores.db\n",
      "Done.\n"
     ]
    },
    {
     "data": {
      "text/html": [
       "<table>\n",
       "    <thead>\n",
       "        <tr>\n",
       "            <th>contactLastName</th>\n",
       "            <th>contactFirstName</th>\n",
       "            <th>city</th>\n",
       "            <th>country</th>\n",
       "        </tr>\n",
       "    </thead>\n",
       "    <tbody>\n",
       "        <tr>\n",
       "            <td>Young</td>\n",
       "            <td>Mary</td>\n",
       "            <td>Glendale</td>\n",
       "            <td>USA</td>\n",
       "        </tr>\n",
       "        <tr>\n",
       "            <td>Taylor</td>\n",
       "            <td>Leslie</td>\n",
       "            <td>Brickhaven</td>\n",
       "            <td>USA</td>\n",
       "        </tr>\n",
       "        <tr>\n",
       "            <td>Ricotti</td>\n",
       "            <td>Franco</td>\n",
       "            <td>Milan</td>\n",
       "            <td>Italy</td>\n",
       "        </tr>\n",
       "        <tr>\n",
       "            <td>Schmitt</td>\n",
       "            <td>Carine </td>\n",
       "            <td>Nantes</td>\n",
       "            <td>France</td>\n",
       "        </tr>\n",
       "        <tr>\n",
       "            <td>Smith</td>\n",
       "            <td>Thomas </td>\n",
       "            <td>London</td>\n",
       "            <td>UK</td>\n",
       "        </tr>\n",
       "    </tbody>\n",
       "</table>"
      ],
      "text/plain": [
       "[('Young', 'Mary', 'Glendale', 'USA'),\n",
       " ('Taylor', 'Leslie', 'Brickhaven', 'USA'),\n",
       " ('Ricotti', 'Franco', 'Milan', 'Italy'),\n",
       " ('Schmitt', 'Carine ', 'Nantes', 'France'),\n",
       " ('Smith', 'Thomas ', 'London', 'UK')]"
      ]
     },
     "execution_count": 6,
     "metadata": {},
     "output_type": "execute_result"
    }
   ],
   "source": [
    "%%sql\n",
    "\n",
    "WITH \n",
    "client_profit AS (\n",
    "SELECT o.customerNumber,\n",
    "       SUM(quantityOrdered*(priceEach-buyPrice)) AS profit\n",
    "  FROM orders AS o\n",
    "  JOIN orderdetails AS od\n",
    "    ON o.orderNumber = od.orderNumber\n",
    "  JOIN products p\n",
    "    ON od.productCode = p.productCode\n",
    " GROUP BY o.customerNumber\n",
    "                   )\n",
    "\n",
    "SELECT contactLastName, contactFirstName, city, country\n",
    "  FROM customers AS c\n",
    "  JOIN client_profit AS cp\n",
    "    ON c.customerNumber = cp.customerNumber\n",
    " ORDER BY cp.profit \n",
    " LIMIT 5;"
   ]
  },
  {
   "cell_type": "markdown",
   "id": "8687165b",
   "metadata": {},
   "source": [
    "## Question 3\n",
    "\n",
    "\n",
    "To determine how much money we can spend acquiring new customers, we can compute the Customer Lifetime Value (LTV), \n",
    "which represents the average amount of money a customer generates. We can then determine how much we can spend \n",
    "on marketing."
   ]
  },
  {
   "cell_type": "code",
   "execution_count": 7,
   "id": "dde48aaf",
   "metadata": {},
   "outputs": [
    {
     "name": "stdout",
     "output_type": "stream",
     "text": [
      " * sqlite:///stores.db\n",
      "Done.\n"
     ]
    },
    {
     "data": {
      "text/html": [
       "<table>\n",
       "    <thead>\n",
       "        <tr>\n",
       "            <th>LVT</th>\n",
       "        </tr>\n",
       "    </thead>\n",
       "    <tbody>\n",
       "        <tr>\n",
       "            <td>39039.59438775511</td>\n",
       "        </tr>\n",
       "    </tbody>\n",
       "</table>"
      ],
      "text/plain": [
       "[(39039.59438775511,)]"
      ]
     },
     "execution_count": 7,
     "metadata": {},
     "output_type": "execute_result"
    }
   ],
   "source": [
    "%%sql\n",
    "\n",
    "WITH \n",
    "client_profit AS (\n",
    "SELECT o.customerNumber,\n",
    "       SUM(quantityOrdered*(priceEach-buyPrice)) AS profit\n",
    "  FROM orders AS o\n",
    "  JOIN orderdetails AS od\n",
    "    ON o.orderNumber = od.orderNumber\n",
    "  JOIN products p\n",
    "    ON od.productCode = p.productCode\n",
    " GROUP BY o.customerNumber\n",
    "                  )\n",
    " \n",
    "SELECT AVG(profit) AS LVT\n",
    "  FROM client_profit"
   ]
  }
 ],
 "metadata": {
  "kernelspec": {
   "display_name": "Python 3 (ipykernel)",
   "language": "python",
   "name": "python3"
  },
  "language_info": {
   "codemirror_mode": {
    "name": "ipython",
    "version": 3
   },
   "file_extension": ".py",
   "mimetype": "text/x-python",
   "name": "python",
   "nbconvert_exporter": "python",
   "pygments_lexer": "ipython3",
   "version": "3.9.13"
  }
 },
 "nbformat": 4,
 "nbformat_minor": 5
}
